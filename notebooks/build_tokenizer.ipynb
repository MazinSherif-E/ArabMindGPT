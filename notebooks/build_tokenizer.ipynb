{
  "nbformat": 4,
  "nbformat_minor": 0,
  "metadata": {
    "colab": {
      "provenance": [],
      "gpuType": "T4"
    },
    "kernelspec": {
      "name": "python3",
      "display_name": "Python 3"
    },
    "language_info": {
      "name": "python"
    },
    "accelerator": "GPU"
  },
  "cells": [
    {
      "cell_type": "code",
      "source": [
        "from tokenizers import Tokenizer\n",
        "from tokenizers.models import BPE\n",
        "tokenizer = Tokenizer(BPE(unk_token='<unk>'))"
      ],
      "metadata": {
        "id": "49Cu29qA6GwF"
      },
      "execution_count": 42,
      "outputs": []
    },
    {
      "cell_type": "code",
      "source": [
        "from tokenizers.trainers import BpeTrainer\n",
        "trainer = BpeTrainer(\n",
        "    special_tokens=['<unk>', '<sep>', '<pad>', '<mask>'], vocab_size=4_096)"
      ],
      "metadata": {
        "id": "b-r3XxzC6HC3"
      },
      "execution_count": 43,
      "outputs": []
    },
    {
      "cell_type": "code",
      "source": [
        "from tokenizers.pre_tokenizers import Whitespace\n",
        "tokenizer.pre_tokenizer = Whitespace()"
      ],
      "metadata": {
        "id": "lYFx29lk6Iwe"
      },
      "execution_count": 44,
      "outputs": []
    },
    {
      "cell_type": "code",
      "source": [
        "tokenizer.train(['./sentences.txt'], trainer)"
      ],
      "metadata": {
        "id": "eyp1k0R16KnQ"
      },
      "execution_count": 45,
      "outputs": []
    },
    {
      "cell_type": "code",
      "source": [
        "tokenizer.get_vocab_size()"
      ],
      "metadata": {
        "colab": {
          "base_uri": "https://localhost:8080/"
        },
        "id": "x4G_SvEy6NOG",
        "outputId": "95173354-998e-4cd3-b1da-eb69059eb93c"
      },
      "execution_count": 46,
      "outputs": [
        {
          "output_type": "execute_result",
          "data": {
            "text/plain": [
              "4096"
            ]
          },
          "metadata": {},
          "execution_count": 46
        }
      ]
    },
    {
      "cell_type": "code",
      "source": [
        "output = tokenizer.encode('السلام عليكم و رحمة الله ...')\n",
        "output"
      ],
      "metadata": {
        "colab": {
          "base_uri": "https://localhost:8080/"
        },
        "id": "SA1M79ka6lJn",
        "outputId": "6d075d42-e94f-4b7b-94d4-1c12a184ad62"
      },
      "execution_count": 47,
      "outputs": [
        {
          "output_type": "execute_result",
          "data": {
            "text/plain": [
              "Encoding(num_tokens=9, attributes=[ids, type_ids, tokens, offsets, attention_mask, special_tokens_mask, overflowing])"
            ]
          },
          "metadata": {},
          "execution_count": 47
        }
      ]
    },
    {
      "cell_type": "code",
      "source": [
        "output.tokens"
      ],
      "metadata": {
        "colab": {
          "base_uri": "https://localhost:8080/"
        },
        "id": "rDRvxbWW6m-a",
        "outputId": "cfe74d37-d2d4-4775-9347-e7616f56f4ea"
      },
      "execution_count": 48,
      "outputs": [
        {
          "output_type": "execute_result",
          "data": {
            "text/plain": [
              "['السلام', 'علي', 'كم', 'و', 'رح', 'مة', 'الله', '..', '.']"
            ]
          },
          "metadata": {},
          "execution_count": 48
        }
      ]
    },
    {
      "cell_type": "code",
      "source": [
        "output.ids"
      ],
      "metadata": {
        "colab": {
          "base_uri": "https://localhost:8080/"
        },
        "id": "ovSaruLH6oAY",
        "outputId": "e1747954-8807-427b-bf05-cf2bcd141a6d"
      },
      "execution_count": 49,
      "outputs": [
        {
          "output_type": "execute_result",
          "data": {
            "text/plain": [
              "[3808, 1823, 1786, 477, 3669, 1695, 1943, 3580, 17]"
            ]
          },
          "metadata": {},
          "execution_count": 49
        }
      ]
    },
    {
      "cell_type": "code",
      "source": [
        "from tokenizers.processors import TemplateProcessing\n",
        "tokenizer.post_processor = TemplateProcessing(\n",
        "    single='<sep> $A <sep>',\n",
        "    pair='<sep> $A <sep> $B:1 <sep>:1',\n",
        "    special_tokens=[\n",
        "        ('<sep>', tokenizer.token_to_id('<sep>')),\n",
        "    ],\n",
        ")"
      ],
      "metadata": {
        "id": "j2qwjwO16qFw"
      },
      "execution_count": 50,
      "outputs": []
    },
    {
      "cell_type": "code",
      "source": [
        "output = tokenizer.encode('السلام عليكم و رحمة الله ...')\n",
        "output"
      ],
      "metadata": {
        "colab": {
          "base_uri": "https://localhost:8080/"
        },
        "id": "6K0AyIsp6r8t",
        "outputId": "7ca044f0-f486-4217-f97b-a5ef0f5825b9"
      },
      "execution_count": 51,
      "outputs": [
        {
          "output_type": "execute_result",
          "data": {
            "text/plain": [
              "Encoding(num_tokens=11, attributes=[ids, type_ids, tokens, offsets, attention_mask, special_tokens_mask, overflowing])"
            ]
          },
          "metadata": {},
          "execution_count": 51
        }
      ]
    },
    {
      "cell_type": "code",
      "source": [
        "output.tokens"
      ],
      "metadata": {
        "colab": {
          "base_uri": "https://localhost:8080/"
        },
        "id": "0RoO-rk36ynC",
        "outputId": "d7fc2e43-8c5c-403d-cdcd-116e4baa616d"
      },
      "execution_count": 52,
      "outputs": [
        {
          "output_type": "execute_result",
          "data": {
            "text/plain": [
              "['<sep>', 'السلام', 'علي', 'كم', 'و', 'رح', 'مة', 'الله', '..', '.', '<sep>']"
            ]
          },
          "metadata": {},
          "execution_count": 52
        }
      ]
    },
    {
      "cell_type": "code",
      "source": [
        "output.ids"
      ],
      "metadata": {
        "colab": {
          "base_uri": "https://localhost:8080/"
        },
        "id": "c7a9Yo7S60IJ",
        "outputId": "e1e01ceb-3424-4604-b2c3-504a6f5bdb5c"
      },
      "execution_count": 53,
      "outputs": [
        {
          "output_type": "execute_result",
          "data": {
            "text/plain": [
              "[1, 3808, 1823, 1786, 477, 3669, 1695, 1943, 3580, 17, 1]"
            ]
          },
          "metadata": {},
          "execution_count": 53
        }
      ]
    },
    {
      "cell_type": "code",
      "source": [
        "tokenizer.enable_padding(pad_id=2, pad_token='<pad>')\n",
        "tokenizer.enable_truncation(max_length=512)"
      ],
      "metadata": {
        "id": "bHPOJksU62cS"
      },
      "execution_count": 54,
      "outputs": []
    },
    {
      "cell_type": "code",
      "source": [
        "tokenizer.save('../models/nano-gpt-tokenizer.json')"
      ],
      "metadata": {
        "id": "U3xCuS8e65nL"
      },
      "execution_count": 55,
      "outputs": []
    },
    {
      "cell_type": "code",
      "source": [],
      "metadata": {
        "id": "IoFndkE-68JP"
      },
      "execution_count": null,
      "outputs": []
    }
  ]
}